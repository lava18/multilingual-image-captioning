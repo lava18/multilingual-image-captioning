{
  "nbformat": 4,
  "nbformat_minor": 0,
  "metadata": {
    "colab": {
      "name": "Mr-MASSIVE-AdapterFineTuningMT.ipynb",
      "provenance": [],
      "collapsed_sections": []
    },
    "kernelspec": {
      "name": "python3",
      "display_name": "Python 3"
    },
    "language_info": {
      "name": "python"
    },
    "accelerator": "GPU"
  },
  "cells": [
    {
      "cell_type": "markdown",
      "source": [
        "### Download data"
      ],
      "metadata": {
        "id": "_FjYqFLPxzM5"
      }
    },
    {
      "cell_type": "code",
      "source": [
        "! gdown 1L1v_wwa8GwEGUy39Xls1JF2VoU0hSDJ7"
      ],
      "metadata": {
        "id": "PwU0upIBKw2o"
      },
      "execution_count": null,
      "outputs": []
    },
    {
      "cell_type": "code",
      "source": [
        "! pip install -r requirements.txt"
      ],
      "metadata": {
        "id": "l8Md-1om1e4P"
      },
      "execution_count": null,
      "outputs": []
    },
    {
      "cell_type": "code",
      "source": [
        "! pip install transformers"
      ],
      "metadata": {
        "id": "aojAYDzU1rLB"
      },
      "execution_count": null,
      "outputs": []
    },
    {
      "cell_type": "code",
      "source": [
        "! pip install adapter-transformers"
      ],
      "metadata": {
        "id": "0pPyCKqC17in"
      },
      "execution_count": null,
      "outputs": []
    },
    {
      "cell_type": "code",
      "source": [
        "! ls /content"
      ],
      "metadata": {
        "id": "6au2i_x8EuAo"
      },
      "execution_count": null,
      "outputs": []
    },
    {
      "cell_type": "code",
      "source": [
        "! mkdir /content/drive/MyDrive/MrEnImageCaptioning"
      ],
      "metadata": {
        "id": "6wccgp2rOe5T"
      },
      "execution_count": null,
      "outputs": []
    },
    {
      "cell_type": "code",
      "source": [
        "! cp -r *.py /content/drive/MyDrive/MrEnImageCaptioning"
      ],
      "metadata": {
        "id": "DoojMT6YOgPv"
      },
      "execution_count": null,
      "outputs": []
    },
    {
      "cell_type": "markdown",
      "source": [
        "### Russian Data Creation"
      ],
      "metadata": {
        "id": "2QUC0eIZEHBX"
      }
    },
    {
      "cell_type": "code",
      "source": [
        "import json\n",
        "\n",
        "with open(\"eng_predicted_captions.json\", \"r\") as stream:\n",
        "    data = json.loads(stream.read())"
      ],
      "metadata": {
        "id": "bIN4HNsREKsh"
      },
      "execution_count": null,
      "outputs": []
    },
    {
      "cell_type": "code",
      "source": [
        "len(data)"
      ],
      "metadata": {
        "id": "vi9SL7F0EbXk"
      },
      "execution_count": null,
      "outputs": []
    },
    {
      "cell_type": "code",
      "source": [
        "print(data[0])"
      ],
      "metadata": {
        "id": "p9LN5ERTEctu"
      },
      "execution_count": null,
      "outputs": []
    },
    {
      "cell_type": "code",
      "source": [
        "eval_data = []\n",
        "for item in data:\n",
        "    eval_data.append({\n",
        "        \"translation\": {\"en\": item[\"hypothesis\"], \"mr\": item[\"hypothesis\"]}\n",
        "    })"
      ],
      "metadata": {
        "id": "1VdnhEemEtme"
      },
      "execution_count": null,
      "outputs": []
    },
    {
      "cell_type": "code",
      "source": [
        "eval_data[0]"
      ],
      "metadata": {
        "id": "I3XRh71TFOs6"
      },
      "execution_count": null,
      "outputs": []
    },
    {
      "cell_type": "code",
      "source": [
        "with open(\"en-to-mr-test.json\", \"w\", encoding=\"utf-8\") as stream:\n",
        "    for jsonl_dict in eval_data:\n",
        "        stream.write(json.dumps(jsonl_dict, ensure_ascii=False).encode('utf8').decode()+\"\\n\")"
      ],
      "metadata": {
        "id": "vaRnO2g6FQdP"
      },
      "execution_count": null,
      "outputs": []
    },
    {
      "cell_type": "code",
      "source": [
        "combined_mr_data = []\n",
        "\n",
        "with open(\"mr_en_train.json\", \"r\") as stream_in:\n",
        "    with open(\"en-to-mr-train.json\", \"w\", encoding=\"utf-8\") as stream_out:\n",
        "        for line in stream_in.readlines():\n",
        "            stream_out.write(line)\n",
        "\n",
        "with open(\"mr_en_dev.json\", \"r\") as stream_in:\n",
        "    with open(\"en-to-mr-train.json\", \"a\", encoding=\"utf-8\") as stream_out:\n",
        "        for line in stream_in.readlines():\n",
        "            stream_out.write(line)\n",
        "\n",
        "with open(\"mr_en_test.json\", \"r\") as stream_in:\n",
        "    with open(\"en-to-mr-train.json\", \"a\", encoding=\"utf-8\") as stream_out:\n",
        "        for line in stream_in.readlines():\n",
        "            stream_out.write(line)"
      ],
      "metadata": {
        "id": "8l5fmoiVBEyg"
      },
      "execution_count": null,
      "outputs": []
    },
    {
      "cell_type": "markdown",
      "source": [
        "### Adapter fine-tuning"
      ],
      "metadata": {
        "id": "D5RVBqb45K66"
      }
    },
    {
      "cell_type": "code",
      "source": [
        "! python /content/finetune_adapter.py \\\n",
        "    --model_name_or_path \"facebook/mbart-large-50-many-to-many-mmt\" \\\n",
        "    --train_adapter \\\n",
        "    --do_train \\\n",
        "    --do_eval \\\n",
        "    --do_predict \\\n",
        "    --evaluation_strategy \"steps\" \\\n",
        "    --save_total_limit 1 \\\n",
        "    --fp16 \\\n",
        "    --eval_steps 5000 \\\n",
        "    --train_file en-to-mr-train.json \\\n",
        "    --validation_file en-to-mr-test.json \\\n",
        "    --test_file en-to-mr-test.json \\\n",
        "    --source_lang en_XX \\\n",
        "    --target_lang mr_IN \\\n",
        "    --output_dir /content/mbart/en-mr \\\n",
        "    --per_device_train_batch_size=8 \\\n",
        "    --per_device_eval_batch_size=8 \\\n",
        "    --overwrite_output_dir \\\n",
        "    --num_train_epochs 3 \\\n",
        "    --predict_with_generate"
      ],
      "metadata": {
        "id": "9CnNEsJZxHWx"
      },
      "execution_count": null,
      "outputs": []
    },
    {
      "cell_type": "code",
      "source": [
        "from google.colab import files\n",
        "files.download(\"mbart/en-mr/generated_predictions.txt\")"
      ],
      "metadata": {
        "id": "kCl-zNVVPtVS"
      },
      "execution_count": null,
      "outputs": []
    },
    {
      "cell_type": "markdown",
      "source": [
        "### Formatting Predictions"
      ],
      "metadata": {
        "id": "wLEqE9DrBnT7"
      }
    },
    {
      "cell_type": "code",
      "source": [
        "with open(\"ru20k_predicted_captions.json\", \"r\") as stream:\n",
        "  ru_preds = json.loads(stream.read())\n",
        "\n",
        "ru_test = []\n",
        "with open(\"mbart/en-mr/generated_predictions.txt\", \"r\") as stream:\n",
        "  for line in stream.readlines():\n",
        "    ru_test.append(line.strip())\n",
        "\n",
        "assert len(ru_preds) == len(ru_test)\n",
        "\n",
        "for idx, (gt, pred) in enumerate(zip(ru_preds, ru_test)):\n",
        "  ru_preds[idx][\"hypothesis\"] = pred\n",
        "\n",
        "with open(\"mBART50_mr_preds.json\", \"w\", encoding=\"utf-8\") as stream:\n",
        "  stream.write(json.dumps(ru_preds, ensure_ascii=False).encode('utf8').decode())\n",
        "\n",
        "files.download(\"mBART50_mr_preds.json\")"
      ],
      "metadata": {
        "id": "HzaFYeNXBpiY"
      },
      "execution_count": null,
      "outputs": []
    }
  ]
}